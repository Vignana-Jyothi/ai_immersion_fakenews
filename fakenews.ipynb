{
 "cells": [
  {
   "cell_type": "code",
   "execution_count": 2,
   "id": "f5d79f09-5e82-497a-9c75-bc743df56db2",
   "metadata": {},
   "outputs": [
    {
     "name": "stdout",
     "output_type": "stream",
     "text": [
      "Accuracy: 0.9915824915824916\n",
      "Classification Report:\n",
      "              precision    recall  f1-score   support\n",
      "\n",
      "        Fake       0.99      0.99      0.99      1466\n",
      "        Real       0.99      0.99      0.99      1504\n",
      "\n",
      "    accuracy                           0.99      2970\n",
      "   macro avg       0.99      0.99      0.99      2970\n",
      "weighted avg       0.99      0.99      0.99      2970\n",
      "\n"
     ]
    },
    {
     "name": "stdin",
     "output_type": "stream",
     "text": [
      "Enter text to classify:  President Donald Trump expressed his concern for illegal immigrants brought to the United States as children, commonly referred to as \"Dreamers.\" He emphasized his intention to support these individuals and called on Congress to find a legislative solution to protect them from deportation. Trump stated that he has a deep empathy for these individuals and mentioned that members of Congress are eager to address the issue and do it correctly.\n"
     ]
    },
    {
     "name": "stdout",
     "output_type": "stream",
     "text": [
      "Predicted label:  Real\n"
     ]
    }
   ],
   "source": [
    "import pandas as pd\n",
    "from sklearn.feature_extraction.text import TfidfVectorizer\n",
    "from sklearn.model_selection import train_test_split\n",
    "from sklearn.linear_model import LogisticRegression\n",
    "from sklearn.metrics import accuracy_score, classification_report\n",
    "\n",
    "# Load data from CSV\n",
    "# Replace the file path with the location of your CSV file\n",
    "df = pd.read_csv('fakereal.csv')\n",
    "\n",
    "# Split data into features (X) and labels (y)\n",
    "X = df['Text']\n",
    "y = df['label']\n",
    "\n",
    "# Convert text data to TF-IDF features\n",
    "vectorizer = TfidfVectorizer(stop_words='english')\n",
    "X_tfidf = vectorizer.fit_transform(X)\n",
    "\n",
    "# Split the dataset into training and testing sets\n",
    "X_train, X_test, y_train, y_test = train_test_split(X_tfidf, y, test_size=0.3, random_state=42)\n",
    "\n",
    "# Initialize Logistic Regression model\n",
    "model = LogisticRegression()\n",
    "\n",
    "# Train the model\n",
    "model.fit(X_train, y_train)\n",
    "\n",
    "# Predict on the test data\n",
    "y_pred = model.predict(X_test)\n",
    "\n",
    "# Evaluate the model\n",
    "print(\"Accuracy:\", accuracy_score(y_test, y_pred))\n",
    "print(\"Classification Report:\")\n",
    "print(classification_report(y_test, y_pred))\n",
    "\n",
    "# Function to predict user input\n",
    "def predict_user_input(text):\n",
    "    text_tfidf = vectorizer.transform([text])\n",
    "    prediction = model.predict(text_tfidf)\n",
    "    return prediction[0]\n",
    "\n",
    "# Take user input and predict\n",
    "user_input = input(\"Enter text to classify: \")\n",
    "prediction = predict_user_input(user_input)\n",
    "print(\"Predicted label: \", prediction)\n"
   ]
  },
  {
   "cell_type": "code",
   "execution_count": null,
   "id": "27769bb6-a88b-4846-a089-3f912edb1acc",
   "metadata": {},
   "outputs": [],
   "source": []
  }
 ],
 "metadata": {
  "kernelspec": {
   "display_name": "Python [conda env:base] *",
   "language": "python",
   "name": "conda-base-py"
  },
  "language_info": {
   "codemirror_mode": {
    "name": "ipython",
    "version": 3
   },
   "file_extension": ".py",
   "mimetype": "text/x-python",
   "name": "python",
   "nbconvert_exporter": "python",
   "pygments_lexer": "ipython3",
   "version": "3.12.7"
  }
 },
 "nbformat": 4,
 "nbformat_minor": 5
}
